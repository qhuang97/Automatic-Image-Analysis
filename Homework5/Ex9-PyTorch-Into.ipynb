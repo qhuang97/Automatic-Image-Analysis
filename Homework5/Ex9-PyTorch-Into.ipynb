{
 "cells": [
  {
   "cell_type": "markdown",
   "metadata": {},
   "source": [
    "# Exercise 9: PyTorch & Gradient Descent"
   ]
  },
  {
   "cell_type": "markdown",
   "metadata": {},
   "source": [
    "## We would like to solve the following kind of problems:  \n",
    "\n",
    "- Given is a **labeled** dataset $D=\\{(x_i,y_i)\\}_{i=1}^N \\subseteq X\\times Y$ and a **parametrized differentiable** function $f_\\theta: X\\rightarrow Y$.   \n",
    "- We measure the performance of our function using a **differentiable** loss $L: Y\\times Y \\rightarrow \\mathbb{R}$.  \n",
    "- We would like to find the optimal parameters/weights for $\\theta$ that minimize the following error:\n",
    "\n",
    "$$E = \\sum_{i=1}^N L(y_i, f_\\theta(x))$$"
   ]
  },
  {
   "cell_type": "markdown",
   "metadata": {},
   "source": [
    "A (local) optimum can be found using gradient descent: \n",
    "- initialize weights $\\theta_0$\n",
    "- until convergence of E do:\n",
    "    \\begin{align}\\theta_{n+1} &= \\theta_n - \\lambda \\nabla_\\theta E  \\\\\n",
    "    &= \\theta_n - \\lambda \\sum_{i=1}^N \\nabla_\\theta L(y_i, f_\\theta(x))  \\end{align}"
   ]
  },
  {
   "cell_type": "markdown",
   "metadata": {},
   "source": [
    "## The following difficulties arise when implementing this procedure yourself\n",
    "- The computation of the gradient varies when:\n",
    "    - changing the loss-function\n",
    "    - changing the parametric function\n",
    "    - changing the update rule (different optimizations Adam, Adagrad, Rprop) \n",
    "    - changing dimensionality/shape of data\n",
    "- utilizing performance improvements\n",
    "    - multithreading\n",
    "    - GPU\n",
    "    - numerical calculations (linear algebra, array operations, etc.)"
   ]
  },
  {
   "cell_type": "markdown",
   "metadata": {},
   "source": [
    "# PyTorch\n",
    "\n",
    "This exercise is based on the following tutorial: https://pytorch.org/tutorials/beginner/deep_learning_60min_blitz.html"
   ]
  },
  {
   "cell_type": "code",
   "execution_count": 1,
   "metadata": {},
   "outputs": [],
   "source": [
    "import torch\n",
    "import numpy as np"
   ]
  },
  {
   "cell_type": "code",
   "execution_count": 2,
   "metadata": {},
   "outputs": [
    {
     "data": {
      "text/plain": [
       "'GeForce RTX 2060'"
      ]
     },
     "execution_count": 2,
     "metadata": {},
     "output_type": "execute_result"
    }
   ],
   "source": [
    "x = torch.cuda.device(0)\n",
    "torch.cuda.get_device_name(0)"
   ]
  },
  {
   "cell_type": "markdown",
   "metadata": {},
   "source": [
    "## Tensors\n",
    "Tensor provide the basic data structure. Similar to numpy they describe a multidimensional array.  \n",
    "All of PyTorch's operations are based around them."
   ]
  },
  {
   "cell_type": "markdown",
   "metadata": {},
   "source": [
    "### Initialization"
   ]
  },
  {
   "cell_type": "code",
   "execution_count": 3,
   "metadata": {},
   "outputs": [],
   "source": [
    "# from data\n",
    "data = [[1, 2],[3, 4]]\n",
    "x = torch.tensor([[1,2],[3,4]])\n",
    "\n",
    "# from numpy\n",
    "np_array = np.array(data)\n",
    "x = torch.from_numpy(np_array)\n",
    "\n",
    "# from other tensors\n",
    "x_ones = torch.ones_like(x) # retains the properties of x_data\n",
    "x_rand = torch.rand_like(x, dtype=torch.float) # overrides the datatype of x_data\n",
    "\n",
    "# with initialized values\n",
    "shape = (3,5,6)\n",
    "rand_tensor = torch.rand((3,5,6)) # random values \n",
    "ones_tensor = torch.ones(shape)   # constant value of 1\n",
    "zeros_tensor = torch.zeros(shape) # constan value of 0"
   ]
  },
  {
   "cell_type": "code",
   "execution_count": 4,
   "metadata": {},
   "outputs": [
    {
     "name": "stdout",
     "output_type": "stream",
     "text": [
      "Shape of tensor: torch.Size([3, 4])\n",
      "Datatype of tensor: torch.float32\n",
      "Device tensor is stored on: cpu\n"
     ]
    }
   ],
   "source": [
    "tensor = torch.rand(3,4)\n",
    "\n",
    "print(f\"Shape of tensor: {tensor.shape}\")\n",
    "print(f\"Datatype of tensor: {tensor.dtype}\")\n",
    "print(f\"Device tensor is stored on: {tensor.device}\")"
   ]
  },
  {
   "cell_type": "markdown",
   "metadata": {},
   "source": [
    "### Tensor operation"
   ]
  },
  {
   "cell_type": "code",
   "execution_count": 5,
   "metadata": {},
   "outputs": [
    {
     "name": "stdout",
     "output_type": "stream",
     "text": [
      "tensor([[1., 0., 1., 1.],\n",
      "        [1., 0., 1., 1.],\n",
      "        [1., 0., 1., 1.],\n",
      "        [1., 0., 1., 1.]])\n"
     ]
    }
   ],
   "source": [
    "# numpy-like slicing\n",
    "tensor = torch.ones(4, 4)\n",
    "tensor[:,1] = 0\n",
    "print(tensor)"
   ]
  },
  {
   "cell_type": "code",
   "execution_count": 6,
   "metadata": {},
   "outputs": [
    {
     "name": "stdout",
     "output_type": "stream",
     "text": [
      "torch.Size([4, 12])\n"
     ]
    }
   ],
   "source": [
    "tensor = torch.ones(4, 4)\n",
    "# joining tensors\n",
    "t1 = torch.cat([tensor, tensor, tensor], dim=1)\n",
    "print(t1.size())"
   ]
  },
  {
   "cell_type": "code",
   "execution_count": 7,
   "metadata": {},
   "outputs": [
    {
     "name": "stdout",
     "output_type": "stream",
     "text": [
      "torch.Size([4, 4])\n"
     ]
    }
   ],
   "source": [
    "# splitting tensors\n",
    "tensor_list = torch.split(t1, 4, dim=1) # split tensor along 0th dimension in chunks of size 4 \n",
    "print(tensor_list[0].size())"
   ]
  },
  {
   "cell_type": "code",
   "execution_count": 8,
   "metadata": {},
   "outputs": [
    {
     "name": "stdout",
     "output_type": "stream",
     "text": [
      "torch.Size([4, 3, 4])\n"
     ]
    }
   ],
   "source": [
    "# stack tensors along new dimension\n",
    "t2 = torch.stack([tensor, tensor, tensor], dim=1)\n",
    "print(t2.size())"
   ]
  },
  {
   "cell_type": "code",
   "execution_count": 9,
   "metadata": {},
   "outputs": [
    {
     "name": "stdout",
     "output_type": "stream",
     "text": [
      "torch.Size([4, 4])\n"
     ]
    }
   ],
   "source": [
    "# unstack tensors\n",
    "tensor_list = torch.unbind(t2, dim =1)\n",
    "print(tensor_list[0].size())"
   ]
  },
  {
   "cell_type": "code",
   "execution_count": 10,
   "metadata": {},
   "outputs": [
    {
     "name": "stdout",
     "output_type": "stream",
     "text": [
      "torch.Size([2, 2, 4])\n"
     ]
    }
   ],
   "source": [
    "# reshape tensor\n",
    "print(tensor.reshape(2,2,-1).size())"
   ]
  },
  {
   "cell_type": "markdown",
   "metadata": {},
   "source": [
    "### Math operations"
   ]
  },
  {
   "cell_type": "code",
   "execution_count": 11,
   "metadata": {},
   "outputs": [
    {
     "name": "stdout",
     "output_type": "stream",
     "text": [
      "x + x =tensor([[2., 2., 2., 2., 2.],\n",
      "        [2., 2., 2., 2., 2.],\n",
      "        [2., 2., 2., 2., 2.],\n",
      "        [2., 2., 2., 2., 2.],\n",
      "        [2., 2., 2., 2., 2.]])\n",
      "x * x =tensor([[1., 1., 1., 1., 1.],\n",
      "        [1., 1., 1., 1., 1.],\n",
      "        [1., 1., 1., 1., 1.],\n",
      "        [1., 1., 1., 1., 1.],\n",
      "        [1., 1., 1., 1., 1.]])\n",
      "x @ x =tensor([[5., 5., 5., 5., 5.],\n",
      "        [5., 5., 5., 5., 5.],\n",
      "        [5., 5., 5., 5., 5.],\n",
      "        [5., 5., 5., 5., 5.],\n",
      "        [5., 5., 5., 5., 5.]])\n"
     ]
    }
   ],
   "source": [
    "x = torch.ones(5,5)\n",
    "\n",
    "# Addition\n",
    "print(f\"x + x ={x + x}\")\n",
    "\n",
    "# Elementwise multiplication\n",
    "print(f\"x * x ={x * x}\")\n",
    "\n",
    "\n",
    "# Matrix Multiplication\n",
    "print(f\"x @ x ={x @ x}\")"
   ]
  },
  {
   "cell_type": "code",
   "execution_count": 12,
   "metadata": {},
   "outputs": [
    {
     "data": {
      "text/plain": [
       "tensor([[1.5872e-11, 1.3864e-05, 8.4228e-13, 2.2132e-01],\n",
       "        [8.3505e-06, 5.6054e-02, 2.1874e-10, 3.7919e-11],\n",
       "        [2.7475e-13, 5.9895e-04, 1.0396e-01, 3.7812e-04],\n",
       "        [3.1007e-03, 3.7299e-02, 4.8442e-09, 1.8009e-01]])"
      ]
     },
     "execution_count": 12,
     "metadata": {},
     "output_type": "execute_result"
    }
   ],
   "source": [
    "x = torch.rand((4,4))\n",
    "# elementwise operations\n",
    "torch.exp(x)\n",
    "torch.cos(x)\n",
    "torch.sin(x)\n",
    "x**10 # elementwise power operation"
   ]
  },
  {
   "cell_type": "markdown",
   "metadata": {},
   "source": [
    "## Autograd\n",
    "PyTorch and other **Automatic differentiation** frameworks provide an easy way to compute gradients.  \n",
    "Specifically, they provide an efficient implementation of the **Backpropagation Algorithm**\n",
    "\n",
    " "
   ]
  },
  {
   "cell_type": "markdown",
   "metadata": {},
   "source": [
    "Let's create an artificial dataset with a linear model:$$ y_i = w^Tx_i + b$$"
   ]
  },
  {
   "cell_type": "code",
   "execution_count": 13,
   "metadata": {},
   "outputs": [
    {
     "name": "stdout",
     "output_type": "stream",
     "text": [
      "torch.Size([1, 1000])\n"
     ]
    }
   ],
   "source": [
    "w = torch.tensor([[0.5,-1.0]])\n",
    "\n",
    "bias = 0\n",
    "b = torch.tensor([bias])\n",
    "\n",
    "N = 1000\n",
    "X_gt = torch.rand((2,N))\n",
    "Y_gt = w@X_gt + b\n",
    "print(Y_gt.size())"
   ]
  },
  {
   "cell_type": "markdown",
   "metadata": {},
   "source": [
    "Let's assume we didn't know the parameters of $w$ and $b$. We are only given $X$ and $Y$ and the model class.\n",
    "We want to estimate the parameters using gradient descent."
   ]
  },
  {
   "cell_type": "code",
   "execution_count": 18,
   "metadata": {},
   "outputs": [
    {
     "name": "stdout",
     "output_type": "stream",
     "text": [
      "Estimation of w:  tensor([[ 0.4752, -0.9756]], requires_grad=True)\n",
      "Number of steps: 220\n"
     ]
    }
   ],
   "source": [
    "from torch.autograd import Variable\n",
    "import time\n",
    "\n",
    "eps = 0.0001\n",
    "lr = 0.1\n",
    "\n",
    "\n",
    "# Initialize the parameters\n",
    "w = torch.rand(1,2, requires_grad=True)\n",
    "#b = torch.rand(1, requires_grad=True)\n",
    "\n",
    "steps = []\n",
    "\n",
    "while True: # Until convergence\n",
    "    \n",
    "    Y_est = w@X_gt + b\n",
    "    error = torch.mean(((Y_est-Y_gt)**2))\n",
    "    error.backward()\n",
    "    \n",
    "    with torch.no_grad():\n",
    "        w = w - lr * w.grad\n",
    "        #b = b - lr * b.grad\n",
    "    print(error.item(), end='\\r')\n",
    "    w.requires_grad = True\n",
    "    #b.requires_grad = True\n",
    "    \n",
    "    steps.append(w.detach().numpy())\n",
    "    if error.item() < eps:\n",
    "        break\n",
    "        \n",
    "steps = np.array(steps).reshape((-1,2))\n",
    "print(\"Estimation of w: \",w)\n",
    "#print(\"Estimation of b:\",b)\n",
    "\n",
    "print(\"Number of steps:\", len(steps))"
   ]
  },
  {
   "cell_type": "code",
   "execution_count": 15,
   "metadata": {},
   "outputs": [
    {
     "name": "stdout",
     "output_type": "stream",
     "text": [
      "(40, 40) (40, 40)\n"
     ]
    },
    {
     "data": {
      "image/png": "[encoded data removed]",
      "text/plain": [
       "<Figure size 432x288 with 1 Axes>"
      ]
     },
     "metadata": {
      "needs_background": "light"
     },
     "output_type": "display_data"
    }
   ],
   "source": [
    "from numpy import exp,arange\n",
    "from pylab import meshgrid,cm,imshow,contour,clabel,colorbar,axis,title,show\n",
    "import matplotlib.pyplot as plt\n",
    "from matplotlib import cm\n",
    "# the function that I'm going to plot\n",
    "\n",
    "\n",
    "@np.vectorize\n",
    "def error(x,y):\n",
    "    w = np.array([x,y])\n",
    "    Y_est = w@X_gt.numpy() + bias\n",
    "    return ((Y_est-Y_gt.numpy())**2).mean()\n",
    " \n",
    "x = arange(-2.0,2.0,0.1)\n",
    "y = arange(-2.0,2.0,0.1)\n",
    "X,Y = meshgrid(x, y) # grid of point\n",
    "\n",
    "print(X.shape,Y.shape)\n",
    "\n",
    "Z = error(X, Y) # evaluation of the function on the grid\n",
    "\n",
    "fig, ax = plt.subplots(subplot_kw={\"projection\": \"3d\"})\n",
    "surf = ax.plot_surface(X, Y, Z, cmap=cm.coolwarm,\n",
    "                       linewidth=0, antialiased=False)\n",
    "\n",
    "\n",
    "#im = imshow(Z,cmap=cm.RdBu) # drawing the function\n",
    "# adding the Contour lines with labels\n",
    "#cset = contour(Z,arange(-1,1.5,0.2),linewidths=2,cmap=cm.Set2)\n",
    "#clabel(cset,inline=True,fmt='%1.1f',fontsize=10)\n",
    "#colorbar(im) # adding the colobar on the right\n",
    "# latex fashion title\n",
    "\n",
    "show()"
   ]
  },
  {
   "cell_type": "code",
   "execution_count": 16,
   "metadata": {},
   "outputs": [
    {
     "data": {
      "text/plain": [
       "<matplotlib.colorbar.Colorbar at 0x1445b811730>"
      ]
     },
     "execution_count": 16,
     "metadata": {},
     "output_type": "execute_result"
    },
    {
     "data": {
      "image/png": "[encoded data removed]",
      "text/plain": [
       "<Figure size 432x288 with 2 Axes>"
      ]
     },
     "metadata": {
      "needs_background": "light"
     },
     "output_type": "display_data"
    }
   ],
   "source": [
    "plt.contourf(X, Y, Z, 50, cmap=cm.coolwarm)\n",
    "plt.plot(steps[:,0],steps[:,1], color = \"black\")\n",
    "colorbar()"
   ]
  }
 ],
 "metadata": {
  "kernelspec": {
   "display_name": "Python 3",
   "language": "python",
   "name": "python3"
  },
  "language_info": {
   "codemirror_mode": {
    "name": "ipython",
    "version": 3
   },
   "file_extension": ".py",
   "mimetype": "text/x-python",
   "name": "python",
   "nbconvert_exporter": "python",
   "pygments_lexer": "ipython3",
   "version": "3.6.13"
  }
 },
 "nbformat": 4,
 "nbformat_minor": 4
}
